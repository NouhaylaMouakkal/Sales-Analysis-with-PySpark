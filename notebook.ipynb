{
 "cells": [
  {
   "cell_type": "code",
   "execution_count": 16,
   "metadata": {},
   "outputs": [],
   "source": [
    "from pyspark.sql import SparkSession\n",
    "from pyspark.sql.functions import col, sum, month, rank, max as spark_max"
   ]
  },
  {
   "cell_type": "markdown",
   "metadata": {},
   "source": [
    "### create spark session in local\n"
   ]
  },
  {
   "cell_type": "code",
   "execution_count": 17,
   "metadata": {},
   "outputs": [
    {
     "name": "stdout",
     "output_type": "stream",
     "text": [
      "Spark Session Créée : <pyspark.sql.session.SparkSession object at 0x000001DA6D6CCCE0>\n"
     ]
    }
   ],
   "source": [
    "spark = SparkSession.builder \\\n",
    "    .appName(\"LocalSalesAnalysis\") \\\n",
    "    .master(\"local[*]\") \\\n",
    "    .getOrCreate()\n",
    "\n",
    "# Vérifier la connexion\n",
    "print(\"Spark Session Créée :\", spark)"
   ]
  },
  {
   "cell_type": "markdown",
   "metadata": {},
   "source": [
    "### Read csv File\n",
    "\n"
   ]
  },
  {
   "cell_type": "code",
   "execution_count": 18,
   "metadata": {},
   "outputs": [
    {
     "name": "stdout",
     "output_type": "stream",
     "text": [
      "+--------------+---------+----------+----------+------+-----------+\n",
      "|transaction_id|client_id|product_id|      date|amount|   category|\n",
      "+--------------+---------+----------+----------+------+-----------+\n",
      "|             1|      101|       201|2023-01-15|   150|Electronics|\n",
      "|             2|      102|       202|2023-01-18|   200|       Home|\n",
      "|             3|      103|       203|2023-01-20|    50|       Toys|\n",
      "|             4|      104|       204|2023-02-05|   120|Electronics|\n",
      "|             5|      105|       205|2023-02-08|   300|    Fashion|\n",
      "+--------------+---------+----------+----------+------+-----------+\n",
      "only showing top 5 rows\n",
      "\n"
     ]
    }
   ],
   "source": [
    "df = spark.read.csv(\"./data/sales_data.csv\", header=True, inferSchema=True)\n",
    "df.show(5)"
   ]
  },
  {
   "cell_type": "code",
   "execution_count": 19,
   "metadata": {},
   "outputs": [
    {
     "name": "stdout",
     "output_type": "stream",
     "text": [
      "root\n",
      " |-- transaction_id: integer (nullable = true)\n",
      " |-- client_id: integer (nullable = true)\n",
      " |-- product_id: integer (nullable = true)\n",
      " |-- date: date (nullable = true)\n",
      " |-- amount: integer (nullable = true)\n",
      " |-- category: string (nullable = true)\n",
      "\n",
      "Nombre de lignes: 27\n"
     ]
    }
   ],
   "source": [
    "df.printSchema()\n",
    "print(\"Nombre de lignes:\", df.count())"
   ]
  },
  {
   "cell_type": "markdown",
   "metadata": {},
   "source": [
    "### Filter the transactions with amount > 100"
   ]
  },
  {
   "cell_type": "code",
   "execution_count": 20,
   "metadata": {},
   "outputs": [
    {
     "name": "stdout",
     "output_type": "stream",
     "text": [
      "+--------------+---------+----------+----------+------+-----------+\n",
      "|transaction_id|client_id|product_id|      date|amount|   category|\n",
      "+--------------+---------+----------+----------+------+-----------+\n",
      "|             1|      101|       201|2023-01-15|   150|Electronics|\n",
      "|             2|      102|       202|2023-01-18|   200|       Home|\n",
      "|             4|      104|       204|2023-02-05|   120|Electronics|\n",
      "|             5|      105|       205|2023-02-08|   300|    Fashion|\n",
      "|             7|      107|       207|2023-03-10|   220|Electronics|\n",
      "+--------------+---------+----------+----------+------+-----------+\n",
      "only showing top 5 rows\n",
      "\n"
     ]
    }
   ],
   "source": [
    "from pyspark.sql.functions import col\n",
    "\n",
    "df_filtered = df.filter(col(\"amount\") > 100)\n",
    "df_filtered.show(5)"
   ]
  },
  {
   "cell_type": "code",
   "execution_count": 21,
   "metadata": {},
   "outputs": [
    {
     "name": "stdout",
     "output_type": "stream",
     "text": [
      "+--------------+---------+----------+----------+------+-----------+\n",
      "|transaction_id|client_id|product_id|      date|amount|   category|\n",
      "+--------------+---------+----------+----------+------+-----------+\n",
      "|             1|      101|       201|2023-01-15|   150|Electronics|\n",
      "|             2|      102|       202|2023-01-18|   200|       Home|\n",
      "|             3|      103|       203|2023-01-20|    50|       Toys|\n",
      "|             4|      104|       204|2023-02-05|   120|Electronics|\n",
      "|             5|      105|       205|2023-02-08|   300|    Fashion|\n",
      "+--------------+---------+----------+----------+------+-----------+\n",
      "only showing top 5 rows\n",
      "\n"
     ]
    }
   ],
   "source": [
    "df = df.fillna({\"amount\": 0.0, \"category\": \"Default\"})\n",
    "df.show(5)"
   ]
  },
  {
   "cell_type": "markdown",
   "metadata": {},
   "source": [
    "### Convert the date column to date format for temp analysis"
   ]
  },
  {
   "cell_type": "code",
   "execution_count": 22,
   "metadata": {},
   "outputs": [],
   "source": [
    "from pyspark.sql.types import DateType\n",
    "\n",
    "df = df.withColumn(\"date\", col(\"date\").cast(DateType()))"
   ]
  },
  {
   "cell_type": "code",
   "execution_count": 23,
   "metadata": {},
   "outputs": [
    {
     "name": "stdout",
     "output_type": "stream",
     "text": [
      "+-----------+-----------+\n",
      "|   category|total_sales|\n",
      "+-----------+-----------+\n",
      "|    Default|          0|\n",
      "|       Home|        795|\n",
      "|    Fashion|       1030|\n",
      "|Electronics|       1150|\n",
      "|       Toys|        295|\n",
      "+-----------+-----------+\n",
      "\n"
     ]
    }
   ],
   "source": [
    "# Calculer le montant total des ventes par catégorie de produit\n",
    "from pyspark.sql.functions import sum\n",
    "\n",
    "sales_by_category = df.groupBy(\"category\").agg(sum(\"amount\").alias(\"total_sales\"))\n",
    "sales_by_category.show()"
   ]
  },
  {
   "cell_type": "markdown",
   "metadata": {},
   "source": [
    "### Calculate the total amount of sales per month"
   ]
  },
  {
   "cell_type": "code",
   "execution_count": 24,
   "metadata": {},
   "outputs": [
    {
     "name": "stdout",
     "output_type": "stream",
     "text": [
      "+-----+-------------+\n",
      "|month|monthly_sales|\n",
      "+-----+-------------+\n",
      "|    1|          400|\n",
      "|    6|          230|\n",
      "|    3|          400|\n",
      "|    5|          340|\n",
      "|    9|          260|\n",
      "|    4|          390|\n",
      "|    8|          110|\n",
      "|    7|          350|\n",
      "|   10|          155|\n",
      "|   11|          130|\n",
      "|    2|          505|\n",
      "+-----+-------------+\n",
      "\n"
     ]
    }
   ],
   "source": [
    "sales_by_month = df.withColumn(\"month\", month(col(\"date\"))) \\\n",
    "                   .groupBy(\"month\") \\\n",
    "                   .agg(sum(\"amount\").alias(\"monthly_sales\"))\n",
    "sales_by_month.show()"
   ]
  },
  {
   "cell_type": "markdown",
   "metadata": {},
   "source": [
    "### Identify the top 5 best-selling products in terms of total amount"
   ]
  },
  {
   "cell_type": "code",
   "execution_count": 25,
   "metadata": {},
   "outputs": [
    {
     "name": "stdout",
     "output_type": "stream",
     "text": [
      "+----------+-----------+\n",
      "|product_id|total_sales|\n",
      "+----------+-----------+\n",
      "|       205|        300|\n",
      "|       212|        250|\n",
      "|       207|        220|\n",
      "|       217|        210|\n",
      "|       211|        200|\n",
      "+----------+-----------+\n",
      "\n"
     ]
    }
   ],
   "source": [
    "top_5_products = df.groupBy(\"product_id\") \\\n",
    "                   .agg(sum(\"amount\").alias(\"total_sales\")) \\\n",
    "                   .orderBy(col(\"total_sales\").desc()) \\\n",
    "                   .limit(5)\n",
    "top_5_products.show()"
   ]
  }
 ],
 "metadata": {
  "kernelspec": {
   "display_name": "Python 3",
   "language": "python",
   "name": "python3"
  },
  "language_info": {
   "codemirror_mode": {
    "name": "ipython",
    "version": 3
   },
   "file_extension": ".py",
   "mimetype": "text/x-python",
   "name": "python",
   "nbconvert_exporter": "python",
   "pygments_lexer": "ipython3",
   "version": "3.12.0"
  }
 },
 "nbformat": 4,
 "nbformat_minor": 2
}
